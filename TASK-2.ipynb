{
 "cells": [
  {
   "cell_type": "code",
   "execution_count": 53,
   "id": "5418bc48",
   "metadata": {},
   "outputs": [],
   "source": [
    "import cv2"
   ]
  },
  {
   "cell_type": "code",
   "execution_count": 54,
   "id": "e3784bdb",
   "metadata": {},
   "outputs": [],
   "source": [
    "import numpy as np"
   ]
  },
  {
   "cell_type": "code",
   "execution_count": 55,
   "id": "cc678133",
   "metadata": {},
   "outputs": [
    {
     "name": "stdout",
     "output_type": "stream",
     "text": [
      "(389, 688, 3)\n"
     ]
    }
   ],
   "source": [
    "image = cv2.imread(\"b1.png\")\n",
    "shp = image.shape\n",
    "print(shp)"
   ]
  },
  {
   "cell_type": "code",
   "execution_count": 56,
   "id": "49e5dbac",
   "metadata": {},
   "outputs": [],
   "source": [
    "gray = cv2.cvtColor(image, cv2.COLOR_BGR2GRAY)"
   ]
  },
  {
   "cell_type": "code",
   "execution_count": 57,
   "id": "44765383",
   "metadata": {},
   "outputs": [],
   "source": [
    "gray = cv2.medianBlur(gray, 5)"
   ]
  },
  {
   "cell_type": "code",
   "execution_count": 58,
   "id": "2f1221e6",
   "metadata": {},
   "outputs": [],
   "source": [
    "th = cv2.adaptiveThreshold(gray,255,cv2.ADAPTIVE_THRESH_GAUSSIAN_C,cv2.THRESH_BINARY,11,2)"
   ]
  },
  {
   "cell_type": "code",
   "execution_count": 61,
   "id": "9629f320",
   "metadata": {},
   "outputs": [
    {
     "data": {
      "text/plain": [
       "array([[[202, 129,  21],\n",
       "        [202, 129,  21],\n",
       "        [202, 129,  21],\n",
       "        ...,\n",
       "        [202, 129,  21],\n",
       "        [202, 129,  21],\n",
       "        [202, 129,  21]],\n",
       "\n",
       "       [[202, 129,  21],\n",
       "        [202, 129,  21],\n",
       "        [202, 129,  21],\n",
       "        ...,\n",
       "        [202, 129,  21],\n",
       "        [202, 129,  21],\n",
       "        [202, 129,  21]],\n",
       "\n",
       "       [[202, 129,  21],\n",
       "        [202, 129,  21],\n",
       "        [202, 129,  21],\n",
       "        ...,\n",
       "        [202, 129,  21],\n",
       "        [202, 129,  21],\n",
       "        [202, 129,  21]],\n",
       "\n",
       "       ...,\n",
       "\n",
       "       [[ 17,  64,  28],\n",
       "        [ 17,  64,  28],\n",
       "        [ 19,  66,  28],\n",
       "        ...,\n",
       "        [ 22,  68,  29],\n",
       "        [ 21,  69,  31],\n",
       "        [  0,   0,   0]],\n",
       "\n",
       "       [[ 16,  64,  28],\n",
       "        [ 17,  64,  27],\n",
       "        [ 18,  65,  28],\n",
       "        ...,\n",
       "        [ 21,  67,  29],\n",
       "        [  0,   0,   0],\n",
       "        [ 20,  69,  31]],\n",
       "\n",
       "       [[ 16,  64,  28],\n",
       "        [ 16,  64,  27],\n",
       "        [ 18,  65,  28],\n",
       "        ...,\n",
       "        [ 21,  67,  29],\n",
       "        [ 20,  69,  31],\n",
       "        [ 20,  69,  32]]], dtype=uint8)"
      ]
     },
     "execution_count": 61,
     "metadata": {},
     "output_type": "execute_result"
    }
   ],
   "source": [
    "color = cv2.bilateralFilter(image, 9, 300, 300)\n",
    "cartoon = cv2.bitwise_and(color, color, mask=th)\n",
    "\n",
    "cartoon\n",
    "    "
   ]
  },
  {
   "cell_type": "code",
   "execution_count": 62,
   "id": "3218e8f0",
   "metadata": {},
   "outputs": [],
   "source": [
    "cv2.imshow(\"original\",image)\n",
    "cv2.imshow(\"cartoon\",cartoon)\n",
    "cv2.waitKey(0)\n",
    "cv2.destroyAllWindows()"
   ]
  },
  {
   "cell_type": "code",
   "execution_count": null,
   "id": "b84bc618",
   "metadata": {},
   "outputs": [],
   "source": []
  }
 ],
 "metadata": {
  "kernelspec": {
   "display_name": "Python 3 (ipykernel)",
   "language": "python",
   "name": "python3"
  },
  "language_info": {
   "codemirror_mode": {
    "name": "ipython",
    "version": 3
   },
   "file_extension": ".py",
   "mimetype": "text/x-python",
   "name": "python",
   "nbconvert_exporter": "python",
   "pygments_lexer": "ipython3",
   "version": "3.10.11"
  }
 },
 "nbformat": 4,
 "nbformat_minor": 5
}
