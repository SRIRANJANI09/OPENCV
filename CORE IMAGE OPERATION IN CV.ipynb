{
 "cells": [
  {
   "cell_type": "code",
   "execution_count": 1,
   "id": "e24f10cf",
   "metadata": {},
   "outputs": [],
   "source": [
    "import cv2\n",
    "import numpy as np"
   ]
  },
  {
   "cell_type": "code",
   "execution_count": 2,
   "id": "f0857e68",
   "metadata": {},
   "outputs": [],
   "source": [
    "img=cv2.imread(\"C:\\\\Users\\\\srira\\\\OneDrive\\\\Desktop\\\\Pictures\\\\Screenshots\\\\Screenshot 2024-07-09 130944.png\")"
   ]
  },
  {
   "cell_type": "code",
   "execution_count": null,
   "id": "ab81594d",
   "metadata": {},
   "outputs": [],
   "source": []
  },
  {
   "cell_type": "code",
   "execution_count": 3,
   "id": "d6eeb359",
   "metadata": {},
   "outputs": [
    {
     "data": {
      "text/plain": [
       "array([[[255, 254, 242],\n",
       "        [255, 255, 240],\n",
       "        [255, 255, 238],\n",
       "        ...,\n",
       "        [119,  98,   7],\n",
       "        [119,  98,   7],\n",
       "        [119,  98,   7]],\n",
       "\n",
       "       [[255, 255, 243],\n",
       "        [255, 255, 240],\n",
       "        [255, 255, 239],\n",
       "        ...,\n",
       "        [119,  97,   8],\n",
       "        [118,  96,   8],\n",
       "        [118,  96,   8]],\n",
       "\n",
       "       [[255, 255, 243],\n",
       "        [255, 255, 240],\n",
       "        [255, 255, 239],\n",
       "        ...,\n",
       "        [119,  97,   9],\n",
       "        [119,  97,   9],\n",
       "        [119,  97,   9]],\n",
       "\n",
       "       ...,\n",
       "\n",
       "       [[113, 107,  54],\n",
       "        [110, 107,  52],\n",
       "        [109, 105,  50],\n",
       "        ...,\n",
       "        [ 60,  60,  30],\n",
       "        [ 60,  60,  30],\n",
       "        [ 60,  60,  30]],\n",
       "\n",
       "       [[112, 105,  52],\n",
       "        [109, 104,  49],\n",
       "        [107, 103,  48],\n",
       "        ...,\n",
       "        [ 59,  59,  29],\n",
       "        [ 59,  59,  29],\n",
       "        [ 60,  60,  30]],\n",
       "\n",
       "       [[112, 103,  49],\n",
       "        [109, 102,  46],\n",
       "        [107, 100,  44],\n",
       "        ...,\n",
       "        [ 59,  59,  29],\n",
       "        [ 59,  59,  29],\n",
       "        [ 60,  60,  30]]], dtype=uint8)"
      ]
     },
     "execution_count": 3,
     "metadata": {},
     "output_type": "execute_result"
    }
   ],
   "source": [
    "img"
   ]
  },
  {
   "cell_type": "raw",
   "id": "27d10e3a",
   "metadata": {},
   "source": [
    "shaping image"
   ]
  },
  {
   "cell_type": "code",
   "execution_count": 4,
   "id": "e6668f0d",
   "metadata": {},
   "outputs": [],
   "source": [
    "shp = img.shape"
   ]
  },
  {
   "cell_type": "code",
   "execution_count": 5,
   "id": "17ddee20",
   "metadata": {},
   "outputs": [
    {
     "data": {
      "text/plain": [
       "(389, 594, 3)"
      ]
     },
     "execution_count": 5,
     "metadata": {},
     "output_type": "execute_result"
    }
   ],
   "source": [
    "shp"
   ]
  },
  {
   "cell_type": "raw",
   "id": "ddaad73d",
   "metadata": {},
   "source": [
    "size"
   ]
  },
  {
   "cell_type": "code",
   "execution_count": 6,
   "id": "013d27e2",
   "metadata": {},
   "outputs": [],
   "source": [
    "size = img.size"
   ]
  },
  {
   "cell_type": "code",
   "execution_count": 7,
   "id": "698e218b",
   "metadata": {},
   "outputs": [
    {
     "data": {
      "text/plain": [
       "693198"
      ]
     },
     "execution_count": 7,
     "metadata": {},
     "output_type": "execute_result"
    }
   ],
   "source": [
    "size"
   ]
  },
  {
   "cell_type": "code",
   "execution_count": 8,
   "id": "4efd4e21",
   "metadata": {},
   "outputs": [],
   "source": [
    "reshape_image = cv2.resize(img,(500,500))"
   ]
  },
  {
   "cell_type": "code",
   "execution_count": 9,
   "id": "7f190b43",
   "metadata": {},
   "outputs": [
    {
     "data": {
      "text/plain": [
       "array([[[255, 254, 242],\n",
       "        [255, 255, 239],\n",
       "        [255, 255, 237],\n",
       "        ...,\n",
       "        [119,  98,   7],\n",
       "        [119,  98,   7],\n",
       "        [119,  98,   7]],\n",
       "\n",
       "       [[255, 255, 242],\n",
       "        [255, 255, 239],\n",
       "        [255, 255, 238],\n",
       "        ...,\n",
       "        [119,  97,   8],\n",
       "        [118,  97,   8],\n",
       "        [118,  97,   8]],\n",
       "\n",
       "       [[255, 255, 242],\n",
       "        [255, 255, 240],\n",
       "        [255, 255, 239],\n",
       "        ...,\n",
       "        [119,  97,   9],\n",
       "        [118,  96,   8],\n",
       "        [118,  96,   8]],\n",
       "\n",
       "       ...,\n",
       "\n",
       "       [[112, 106,  52],\n",
       "        [109, 105,  50],\n",
       "        [107, 103,  48],\n",
       "        ...,\n",
       "        [ 59,  59,  29],\n",
       "        [ 59,  59,  29],\n",
       "        [ 60,  60,  30]],\n",
       "\n",
       "       [[112, 104,  50],\n",
       "        [108, 103,  47],\n",
       "        [106, 101,  46],\n",
       "        ...,\n",
       "        [ 59,  59,  29],\n",
       "        [ 59,  59,  29],\n",
       "        [ 60,  60,  30]],\n",
       "\n",
       "       [[112, 103,  49],\n",
       "        [108, 101,  45],\n",
       "        [106,  99,  43],\n",
       "        ...,\n",
       "        [ 59,  59,  29],\n",
       "        [ 59,  59,  29],\n",
       "        [ 60,  60,  30]]], dtype=uint8)"
      ]
     },
     "execution_count": 9,
     "metadata": {},
     "output_type": "execute_result"
    }
   ],
   "source": [
    "reshape_image"
   ]
  },
  {
   "cell_type": "code",
   "execution_count": 10,
   "id": "defa9ae3",
   "metadata": {},
   "outputs": [],
   "source": [
    "cv2.imshow(\"image\",img)\n",
    "cv2.imshow(\"imgresize\",reshape_image)\n",
    "cv2.waitKey()\n",
    "cv2.destroyAllWindows()"
   ]
  },
  {
   "cell_type": "code",
   "execution_count": 11,
   "id": "1a55f4a3",
   "metadata": {},
   "outputs": [],
   "source": [
    "px  =  img[200,201]"
   ]
  },
  {
   "cell_type": "code",
   "execution_count": 12,
   "id": "2b003b99",
   "metadata": {},
   "outputs": [
    {
     "data": {
      "text/plain": [
       "array([223, 208, 156], dtype=uint8)"
      ]
     },
     "execution_count": 12,
     "metadata": {},
     "output_type": "execute_result"
    }
   ],
   "source": [
    "px"
   ]
  },
  {
   "cell_type": "code",
   "execution_count": 13,
   "id": "943386bb",
   "metadata": {},
   "outputs": [],
   "source": [
    "img =cv2.imread(\"C:\\\\Users\\\\srira\\\\OneDrive\\\\Desktop\\\\Pictures\\\\Screenshots\\\\Screenshot 2024-05-23 222732.png\")"
   ]
  },
  {
   "cell_type": "code",
   "execution_count": 14,
   "id": "d215d9ba",
   "metadata": {},
   "outputs": [],
   "source": [
    "r = cv2.selectROI(\"select the area\",img)\n",
    "\n",
    "\n",
    "cropped_image = img[int(r[1]):int(r[1]+r[3]),\n",
    "                       int(r[0]):int(r[0]+r[2])]\n",
    "cv2.imshow(\"Cropped Image\",cropped_image)\n",
    "cv2.waitKey(0)\n",
    "cv2.destroyAllWindows()"
   ]
  },
  {
   "cell_type": "code",
   "execution_count": 15,
   "id": "b098a204",
   "metadata": {},
   "outputs": [
    {
     "data": {
      "text/plain": [
       "array([[[201, 127,  19],\n",
       "        [201, 127,  19],\n",
       "        [202, 128,  20],\n",
       "        ...,\n",
       "        [221, 157,  77],\n",
       "        [221, 161,  89],\n",
       "        [218, 166, 100]],\n",
       "\n",
       "       [[202, 129,  21],\n",
       "        [202, 129,  21],\n",
       "        [202, 129,  21],\n",
       "        ...,\n",
       "        [223, 162,  87],\n",
       "        [223, 166,  99],\n",
       "        [221, 172, 111]],\n",
       "\n",
       "       [[203, 130,  22],\n",
       "        [203, 130,  22],\n",
       "        [203, 130,  22],\n",
       "        ...,\n",
       "        [223, 167,  99],\n",
       "        [224, 172, 111],\n",
       "        [222, 178, 122]],\n",
       "\n",
       "       ...,\n",
       "\n",
       "       [[ 40,  74,  29],\n",
       "        [ 30,  65,  23],\n",
       "        [ 42,  70,  25],\n",
       "        ...,\n",
       "        [ 71,  21,   1],\n",
       "        [ 71,  21,   1],\n",
       "        [ 71,  21,   1]],\n",
       "\n",
       "       [[ 31,  71,  27],\n",
       "        [ 24,  63,  21],\n",
       "        [ 34,  64,  20],\n",
       "        ...,\n",
       "        [ 69,  22,   1],\n",
       "        [ 69,  22,   1],\n",
       "        [ 69,  22,   1]],\n",
       "\n",
       "       [[ 22,  65,  23],\n",
       "        [ 25,  66,  24],\n",
       "        [ 32,  65,  20],\n",
       "        ...,\n",
       "        [ 67,  21,   1],\n",
       "        [ 67,  21,   2],\n",
       "        [ 67,  22,   2]]], dtype=uint8)"
      ]
     },
     "execution_count": 15,
     "metadata": {},
     "output_type": "execute_result"
    }
   ],
   "source": [
    "cropped_image"
   ]
  },
  {
   "cell_type": "code",
   "execution_count": 17,
   "id": "6292137c",
   "metadata": {},
   "outputs": [
    {
     "data": {
      "text/plain": [
       "True"
      ]
     },
     "execution_count": 17,
     "metadata": {},
     "output_type": "execute_result"
    }
   ],
   "source": [
    "cv2.imwrite(\"C:\\\\Users\\\\srira\\\\OneDrive\\\\Desktop\\\\Pictures\\\\Screenshots\\\\bird.png\",cropped_image)"
   ]
  },
  {
   "cell_type": "code",
   "execution_count": 18,
   "id": "bc3572f7",
   "metadata": {},
   "outputs": [],
   "source": [
    "img =cv2.imread(\"C:\\\\Users\\\\srira\\\\OneDrive\\\\Desktop\\\\Pictures\\\\Screenshots\\\\Screenshot 2024-05-23 222732.png\")"
   ]
  },
  {
   "cell_type": "code",
   "execution_count": 19,
   "id": "ffdebcd5",
   "metadata": {},
   "outputs": [],
   "source": [
    "b,g,r = cv2.split(img)\n",
    "\n",
    "\n",
    "\n",
    "cv2.imshow(\"image\",img)\n",
    "cv2.imshow(\"blue\",b)\n",
    "cv2.imshow(\"green\",g)\n",
    "cv2.imshow(\"red\",r)\n",
    "cv2.waitKey()\n",
    "cv2.destroyAllWindows()"
   ]
  },
  {
   "cell_type": "code",
   "execution_count": 21,
   "id": "75774ce3",
   "metadata": {},
   "outputs": [
    {
     "data": {
      "text/plain": [
       "True"
      ]
     },
     "execution_count": 21,
     "metadata": {},
     "output_type": "execute_result"
    }
   ],
   "source": [
    "cv2.imwrite(\"C:\\\\Users\\\\srira\\\\OneDrive\\\\Desktop\\\\Pictures\\\\Screenshots\\\\bird2.png\",b)"
   ]
  },
  {
   "cell_type": "code",
   "execution_count": null,
   "id": "d207f3f2",
   "metadata": {},
   "outputs": [],
   "source": []
  }
 ],
 "metadata": {
  "kernelspec": {
   "display_name": "Python 3 (ipykernel)",
   "language": "python",
   "name": "python3"
  },
  "language_info": {
   "codemirror_mode": {
    "name": "ipython",
    "version": 3
   },
   "file_extension": ".py",
   "mimetype": "text/x-python",
   "name": "python",
   "nbconvert_exporter": "python",
   "pygments_lexer": "ipython3",
   "version": "3.10.11"
  }
 },
 "nbformat": 4,
 "nbformat_minor": 5
}
