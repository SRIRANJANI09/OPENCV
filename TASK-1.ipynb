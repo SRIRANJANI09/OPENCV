{
 "cells": [
  {
   "cell_type": "code",
   "execution_count": 1,
   "id": "8b0a5d97",
   "metadata": {},
   "outputs": [],
   "source": [
    "import cv2"
   ]
  },
  {
   "cell_type": "code",
   "execution_count": 2,
   "id": "ecf03578",
   "metadata": {},
   "outputs": [],
   "source": [
    "import numpy as np"
   ]
  },
  {
   "cell_type": "code",
   "execution_count": 3,
   "id": "dbadaa73",
   "metadata": {},
   "outputs": [],
   "source": [
    "img1 = cv2.imread(\"C:\\\\Users\\\\srira\\\\Documents\\\\sem 5\\\\girl.jpeg\")\n",
    "img2 = cv2.imread(\"C:\\\\Users\\\\srira\\\\Documents\\\\sem 5\\\\BUILD.jpg\")\n",
    "\n",
    "cv2.imshow('Image1',img1)\n",
    "cv2.imshow('Image2',img2)\n",
    "cv2.waitKey(0)\n",
    "cv2.destroyAllWindows()"
   ]
  },
  {
   "cell_type": "code",
   "execution_count": 4,
   "id": "288da301",
   "metadata": {},
   "outputs": [
    {
     "data": {
      "text/plain": [
       "(266, 474, 3)"
      ]
     },
     "execution_count": 4,
     "metadata": {},
     "output_type": "execute_result"
    }
   ],
   "source": [
    "img1.shape"
   ]
  },
  {
   "cell_type": "code",
   "execution_count": 5,
   "id": "1a2191aa",
   "metadata": {},
   "outputs": [
    {
     "data": {
      "text/plain": [
       "(2160, 3840, 3)"
      ]
     },
     "execution_count": 5,
     "metadata": {},
     "output_type": "execute_result"
    }
   ],
   "source": [
    "img2.shape"
   ]
  },
  {
   "cell_type": "code",
   "execution_count": 6,
   "id": "c85935d0",
   "metadata": {},
   "outputs": [],
   "source": [
    "img1 = cv2.resize(img1,(700,500))\n",
    "img2 = cv2.resize(img2,(700,500))"
   ]
  },
  {
   "cell_type": "code",
   "execution_count": 7,
   "id": "3d54e548",
   "metadata": {},
   "outputs": [],
   "source": [
    "added_image = cv2.add(img1,img2)\n",
    "cv2.imshow('added_image',added_image)\n",
    "cv2.waitKey(0)\n",
    "cv2.destroyAllWindows()\n"
   ]
  },
  {
   "cell_type": "code",
   "execution_count": 8,
   "id": "bad0f55d",
   "metadata": {},
   "outputs": [],
   "source": [
    "imAdd = cv2.addWeighted(img1,0.5,img2,0.5,0)\n",
    "cv2.imshow(\"imAdd\",imAdd)\n",
    "cv2.waitKey(0)\n",
    "cv2.destroyAllWindows()\n"
   ]
  },
  {
   "cell_type": "code",
   "execution_count": 9,
   "id": "cfac5884",
   "metadata": {},
   "outputs": [],
   "source": [
    "bitwise_or = cv2.bitwise_or(img1,img2,mask = None)"
   ]
  },
  {
   "cell_type": "code",
   "execution_count": 10,
   "id": "7d9842c8",
   "metadata": {},
   "outputs": [],
   "source": [
    "bitwise_and = cv2.bitwise_and(img1,img2,mask = None)"
   ]
  },
  {
   "cell_type": "code",
   "execution_count": 11,
   "id": "1e23b45f",
   "metadata": {},
   "outputs": [],
   "source": [
    "bitwise_xor = cv2.bitwise_xor(img1,img2,mask = None)"
   ]
  },
  {
   "cell_type": "code",
   "execution_count": 12,
   "id": "5a90ce82",
   "metadata": {},
   "outputs": [],
   "source": [
    "cv2.imshow(\"img1\",img1)\n",
    "cv2.imshow(\"image2\",img2)\n",
    "cv2.imshow(\"bitwise_or\",bitwise_or)\n",
    "cv2.imshow(\"bitwise_and\",bitwise_and)\n",
    "cv2.imshow(\"bitwise_xor\",bitwise_xor)\n",
    "cv2.waitKey(0)\n",
    "cv2.destroyAllWindows()\n"
   ]
  },
  {
   "cell_type": "code",
   "execution_count": 13,
   "id": "c56d7492",
   "metadata": {},
   "outputs": [
    {
     "name": "stdout",
     "output_type": "stream",
     "text": [
      "(266, 474, 3)\n",
      "(2160, 3840, 3)\n",
      "2160\n",
      "3840\n"
     ]
    }
   ],
   "source": [
    "img1 = cv2.imread(\"C:\\\\Users\\\\srira\\\\Documents\\\\sem 5\\\\girl.jpeg\")\n",
    "img2 = cv2.imread(\"C:\\\\Users\\\\srira\\\\Documents\\\\sem 5\\\\BUILD.jpg\")\n",
    "shp1 = img1.shape\n",
    "shp2 = img2.shape\n",
    "print(shp1)\n",
    "print(shp2)\n",
    "height,width = img1.shape[:2]\n",
    "height,width = img2.shape[:2]\n",
    "print(height)\n",
    "print(width)"
   ]
  },
  {
   "cell_type": "code",
   "execution_count": 14,
   "id": "379da9c5",
   "metadata": {
    "scrolled": true
   },
   "outputs": [
    {
     "data": {
      "text/plain": [
       "(1080.0, 1920.0)"
      ]
     },
     "execution_count": 14,
     "metadata": {},
     "output_type": "execute_result"
    }
   ],
   "source": [
    "center =(height/2,width/2)\n",
    "center"
   ]
  },
  {
   "cell_type": "code",
   "execution_count": 15,
   "id": "c1593d2b",
   "metadata": {},
   "outputs": [
    {
     "name": "stdout",
     "output_type": "stream",
     "text": [
      "[[ 7.07106781e-01  7.07106781e-01 -1.04132034e+03]\n",
      " [-7.07106781e-01  7.07106781e-01  1.32603030e+03]]\n"
     ]
    }
   ],
   "source": [
    "rotate_matrix = cv2.getRotationMatrix2D(center= center,angle = 45,scale =1.0)\n",
    "\n",
    "print(rotate_matrix)"
   ]
  },
  {
   "cell_type": "code",
   "execution_count": 16,
   "id": "a4ed12f0",
   "metadata": {},
   "outputs": [],
   "source": [
    "rotate_image1 = cv2.warpAffine(src = img1 ,M = rotate_matrix,dsize = (width,height))\n",
    "rotate_image2 = cv2.warpAffine(src = img2 ,M = rotate_matrix,dsize = (width,height))\n",
    "cv2.imshow(\"orginal_image\",img1)\n",
    "cv2.imshow(\"orginal_image\",img2)\n",
    "cv2.waitKey(0)\n",
    "cv2.imshow(\"Rotated_image\",rotate_image1)\n",
    "cv2.imshow(\"Rotated_image\",rotate_image2)\n",
    "\n",
    "cv2.waitKey(0)\n",
    "cv2.destroyAllWindows()"
   ]
  },
  {
   "cell_type": "code",
   "execution_count": null,
   "id": "6735d321",
   "metadata": {},
   "outputs": [],
   "source": []
  }
 ],
 "metadata": {
  "kernelspec": {
   "display_name": "Python 3 (ipykernel)",
   "language": "python",
   "name": "python3"
  },
  "language_info": {
   "codemirror_mode": {
    "name": "ipython",
    "version": 3
   },
   "file_extension": ".py",
   "mimetype": "text/x-python",
   "name": "python",
   "nbconvert_exporter": "python",
   "pygments_lexer": "ipython3",
   "version": "3.10.11"
  }
 },
 "nbformat": 4,
 "nbformat_minor": 5
}
