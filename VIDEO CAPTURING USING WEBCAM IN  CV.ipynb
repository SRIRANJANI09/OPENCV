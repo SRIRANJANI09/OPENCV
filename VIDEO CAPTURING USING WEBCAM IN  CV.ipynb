{
 "cells": [
  {
   "cell_type": "markdown",
   "id": "cb0c44e4",
   "metadata": {},
   "source": [
    "# importing library"
   ]
  },
  {
   "cell_type": "code",
   "execution_count": 1,
   "id": "ec2c6cd2",
   "metadata": {},
   "outputs": [],
   "source": [
    "import cv2"
   ]
  },
  {
   "cell_type": "code",
   "execution_count": 2,
   "id": "ee6b413f",
   "metadata": {},
   "outputs": [],
   "source": [
    "import numpy as np"
   ]
  },
  {
   "cell_type": "code",
   "execution_count": 3,
   "id": "3e33e412",
   "metadata": {},
   "outputs": [
    {
     "data": {
      "text/plain": [
       "True"
      ]
     },
     "execution_count": 3,
     "metadata": {},
     "output_type": "execute_result"
    }
   ],
   "source": [
    "vid  = cv2.VideoCapture(0)\n",
    "re,f = vid.read()\n",
    "re"
   ]
  },
  {
   "cell_type": "code",
   "execution_count": null,
   "id": "57b58ec9",
   "metadata": {},
   "outputs": [],
   "source": [
    "while(True):\n",
    "    ret, frame = vid.read()\n",
    "    gray = cv2.cvtColor(frame,cv2.COLOR_BGR2GRAY)  \n",
    "  \n",
    "\n",
    "    cv2.imshow('Grey',gray)\n",
    "    \n",
    "    if cv2.waitKey(30) & 0xFF == ord('q'):\n",
    "        break\n",
    "        \n",
    "        \n",
    "vid.release()\n",
    "cv2.destroyAllWindows()"
   ]
  },
  {
   "cell_type": "markdown",
   "id": "7b08bb2d",
   "metadata": {},
   "source": [
    "# defining codec"
   ]
  },
  {
   "cell_type": "raw",
   "id": "bf379253",
   "metadata": {},
   "source": [
    "AVI: DIVX,XVID,MJPEG,X264\n",
    "MP4: mp4\n",
    "WMV: WMV1,WMV2\n",
    "MOV: MJPEG"
   ]
  },
  {
   "cell_type": "code",
   "execution_count": 5,
   "id": "be5b2d60",
   "metadata": {},
   "outputs": [],
   "source": [
    "fourcc = cv2.VideoWriter_fourcc(*'mp4v')"
   ]
  },
  {
   "cell_type": "raw",
   "id": "74798e38",
   "metadata": {},
   "source": [
    "*ascii sign"
   ]
  },
  {
   "cell_type": "markdown",
   "id": "ef952591",
   "metadata": {},
   "source": [
    "# saving video"
   ]
  },
  {
   "cell_type": "code",
   "execution_count": 6,
   "id": "12dfc920",
   "metadata": {},
   "outputs": [],
   "source": [
    "wrt = cv2.VideoWriter(\"C:\\\\Users\\\\srira\\\\Videos\\\\sri2.mp4\",fourcc,50.0,(640,480))"
   ]
  },
  {
   "cell_type": "code",
   "execution_count": null,
   "id": "887ea141",
   "metadata": {},
   "outputs": [],
   "source": []
  }
 ],
 "metadata": {
  "kernelspec": {
   "display_name": "Python 3 (ipykernel)",
   "language": "python",
   "name": "python3"
  },
  "language_info": {
   "codemirror_mode": {
    "name": "ipython",
    "version": 3
   },
   "file_extension": ".py",
   "mimetype": "text/x-python",
   "name": "python",
   "nbconvert_exporter": "python",
   "pygments_lexer": "ipython3",
   "version": "3.10.11"
  }
 },
 "nbformat": 4,
 "nbformat_minor": 5
}
